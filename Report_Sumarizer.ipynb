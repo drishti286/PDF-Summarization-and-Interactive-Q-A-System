{
  "nbformat": 4,
  "nbformat_minor": 0,
  "metadata": {
    "colab": {
      "provenance": []
    },
    "kernelspec": {
      "name": "python3",
      "display_name": "Python 3"
    },
    "language_info": {
      "name": "python"
    }
  },
  "cells": [
    {
      "cell_type": "code",
      "execution_count": null,
      "metadata": {
        "id": "hvfnS7phsg_j"
      },
      "outputs": [],
      "source": []
    },
    {
      "cell_type": "markdown",
      "source": [
        "## Back-End Code\n",
        "_collapse this section or scroll past it_"
      ],
      "metadata": {
        "id": "q56kUwHHu2Zm"
      }
    },
    {
      "cell_type": "code",
      "source": [
        "!pip install PyPDF2"
      ],
      "metadata": {
        "id": "-Kh3mlIzu4An"
      },
      "execution_count": null,
      "outputs": []
    },
    {
      "cell_type": "markdown",
      "source": [
        "**Video Tutorials**\n",
        "1. Setup: [Tutorial_API_Key.mp4](https://csciitd-my.sharepoint.com/:v:/g/personal/ph1230116_iitd_ac_in/EWYUHVBmZ9ZNvo2f9S_6BokBkjJwuZhjdxAeXEIMPPer_A?nav=eyJyZWZlcnJhbEluZm8iOnsicmVmZXJyYWxBcHAiOiJPbmVEcml2ZUZvckJ1c2luZXNzIiwicmVmZXJyYWxBcHBQbGF0Zm9ybSI6IldlYiIsInJlZmVycmFsTW9kZSI6InZpZXciLCJyZWZlcnJhbFZpZXciOiJNeUZpbGVzTGlua0NvcHkifX0&e=D96hbu)\n",
        "2. File Upload: [Tutorial_File_Upload.mp4](https://csciitd-my.sharepoint.com/:v:/g/personal/ph1230116_iitd_ac_in/EX_DeHmvDl9KtpEC-DzMbZoB057CR4trmJh9LmQ0nNA2Ew?nav=eyJyZWZlcnJhbEluZm8iOnsicmVmZXJyYWxBcHAiOiJPbmVEcml2ZUZvckJ1c2luZXNzIiwicmVmZXJyYWxBcHBQbGF0Zm9ybSI6IldlYiIsInJlZmVycmFsTW9kZSI6InZpZXciLCJyZWZlcnJhbFZpZXciOiJNeUZpbGVzTGlua0NvcHkifX0&e=Zf7Z8d)\n",
        "3. Usage: [Tutorial_Usage.mp4](https://csciitd-my.sharepoint.com/:v:/g/personal/ph1230116_iitd_ac_in/EbRXjNUpMRlAs5qwgt5DHeMBT-Ssu8SbeiRjlNg3rqOxzA?nav=eyJyZWZlcnJhbEluZm8iOnsicmVmZXJyYWxBcHAiOiJPbmVEcml2ZUZvckJ1c2luZXNzIiwicmVmZXJyYWxBcHBQbGF0Zm9ybSI6IldlYiIsInJlZmVycmFsTW9kZSI6InZpZXciLCJyZWZlcnJhbFZpZXciOiJNeUZpbGVzTGlua0NvcHkifX0&e=6Rx0lF)\n",
        "\n",
        "---\n",
        "\n",
        "**Setup**\n",
        "1. Go to [Google AI Studio](https://aistudio.google.com/app/apikey/) and click the button labelled \"Create API key\"\n",
        "2. Select any option in the \"Search Google Cloud Projects\" box, the API key will now be visible on the page in a table\n",
        "2. Copy the API key (from the API key column), you may close the AI studio tab now\n",
        "3. Click the key icon in the left sidebar (labelled secrets), and click \"+ Add New Secret\"\n",
        "4. Name it `GOOGLE_API_KEY` (left textbox) and paste your API key in the Value/right textbox\n",
        "5. Make sure to check the \"Notebook Access\" radio button (left of the Name field)\n",
        "\n",
        "The aforementioned steps are one-time, once set-up, you may simply skip it 2nd time onwards.\n",
        "\n",
        "---\n",
        "\n",
        "**File Upload**\n",
        "1. Click the file folder in the left sidebar (below the key/secrets icon)\n",
        "2. Click the upload file button (left-most icon in the menu bar of the newly opened \"Files\" tab) (If you have a URL, save the PDF to your device first)\n",
        "3. Select & upload the file from the file explorer pop-up menu\n",
        "4. After the file uploads (may take several seconds), right click it in the Files tab and rename it to `report.pdf` (if you don't see the PDF, click the refresh button, right of the Upload File button)\n",
        "\n",
        "---\n",
        "\n",
        "**Usage**\n",
        "1. In the menu bar, under the Runtime menu, click \"Run All\" (or just press Ctrl+F9)\n",
        "2. Scroll to the bottom, the response text would be displayed under the 2nd-to-last cell (may take upto a minute to generate)\n",
        "3. Ask further questions in the input textbox visible at the end of the last cell\n",
        "4. End the conversation by inputting `QUIT` in the chat textbox\n",
        "\n",
        "---\n"
      ],
      "metadata": {
        "id": "5Pf8kbWMuj_X"
      }
    },
    {
      "cell_type": "code",
      "source": [
        "# Imports\n",
        "\n",
        "# PDF pre-processing\n",
        "from PyPDF2 import PdfReader as reader\n",
        "from tqdm   import tqdm\n",
        "\n",
        "# Gen AI API\n",
        "import google.generativeai as genai\n",
        "\n",
        "# Colab stuff\n",
        "from google.colab    import userdata\n",
        "from IPython.display import display, Markdown"
      ],
      "metadata": {
        "id": "VnsAbQ8ysiRp"
      },
      "execution_count": null,
      "outputs": []
    },
    {
      "cell_type": "code",
      "source": [
        "# API key extraction\n",
        "api_key=userdata.get(\"GOOGLE_API_KEY\")\n",
        "genai.configure(api_key=api_key)"
      ],
      "metadata": {
        "id": "zO-haBzwsj7_"
      },
      "execution_count": null,
      "outputs": []
    },
    {
      "cell_type": "code",
      "source": [
        "# Document reader\n",
        "def read_docu(pdf_path: str = 'report.pdf', give_token_estm: bool = True):\n",
        "    '''Converts PDF to python string\n",
        "    pdf_path : path to the PDF to be scanned\n",
        "    give_token_estm : whether to print an estimate for the token count'''\n",
        "\n",
        "    with open(pdf_path, 'rb') as pdf_file:\n",
        "        reader_obj = reader(pdf_file)\n",
        "        pages_obj  = reader_obj.pages\n",
        "\n",
        "        docu_text  = ''\n",
        "\n",
        "        for page in pages_obj:\n",
        "            docu_text += page.extract_text().strip()\n",
        "            docu_text += '\\n'\n",
        "\n",
        "    if give_token_estm:\n",
        "        word_count_estm = docu_text.count(' ') + docu_text.count('\\n') + 10\n",
        "        print(f\"Input token count estimate : {round(1.48*word_count_estm)}\\n\")\n",
        "\n",
        "    return docu_text"
      ],
      "metadata": {
        "id": "Ma3Cd_t8skw1"
      },
      "execution_count": null,
      "outputs": []
    },
    {
      "cell_type": "code",
      "source": [
        "# API Caller/Summarizer\n",
        "def summarize(input_text: str, ai_model: genai.GenerativeModel, give_tokens_used: bool = True):\n",
        "    '''Summarizes input_text by calling ai_model'''\n",
        "\n",
        "    summary = ai_model.generate_content(input_text)\n",
        "\n",
        "    if give_tokens_used:\n",
        "        print(f\"Tokens consumed : {summary.usage_metadata.prompt_token_count}\")\n",
        "        print(f\"Summary length  : {len(summary.text.split())} words\\n\")\n",
        "\n",
        "    return summary.text"
      ],
      "metadata": {
        "id": "3hP_hCpmslq0"
      },
      "execution_count": null,
      "outputs": []
    },
    {
      "cell_type": "code",
      "source": [
        "# Model Config\n",
        "model_sys_prompt = '''\\\n",
        "You shall be given the transcript of a company's financial document. The document can be a third-party report, an annual company filing, or a questionnaire.\n",
        "Start with a title to your summary, followed by one line about the nature of the document.\n",
        "\n",
        "Your primary task is to summarize it, providing details about the following topics:\n",
        "1. Market Performace - Any key financial figures (eg - EBITDA, revenue, cagr, etc.)\n",
        "2. Key Charts/Tables - The important tables/graphics. Do not copy-paste the data, simply mention the heading & give a sentence about it.\n",
        "3. Company Info - Background info about the history or nature of the company. Do not give excessive technical details here.\n",
        "4. Business Model - A quick summary of the company's business model.\n",
        "5. Strategic Initiatives - Major moves that the company has made recently, or have planned.\n",
        "\n",
        "Omit sections when details pertaining to them are unavailable in the document.\n",
        "Also note that the first and last few pages might be largely irrelevant.\n",
        "\n",
        "Your secondary task is to add an \"Analysis\" section to your report with the following topics:\n",
        "1. Risk Analysis - Point out the risks with the company's strategic initiatives.\n",
        "2. Competitive Analysis - Point out how you think the company would fare in the current market (give a high level overview of the market if info unavailable).\n",
        "\n",
        "DO NOT make up information.'''\n",
        "\n",
        "model_config = genai.GenerationConfig(temperature=0.2, max_output_tokens=5000, response_mime_type='text/plain')\n",
        "\n",
        "model_name  = 'gemini-1.5-pro'"
      ],
      "metadata": {
        "id": "jaPL2OyTsmkW"
      },
      "execution_count": null,
      "outputs": []
    },
    {
      "cell_type": "markdown",
      "source": [
        "## Main\n",
        "\n",
        "Comprised of 2 cells:\n",
        "- The first generates a summary of your uploaded document\n",
        "- The second allows you to further question the AI"
      ],
      "metadata": {
        "id": "zhenh2F2u8y1"
      }
    },
    {
      "cell_type": "code",
      "source": [
        "# Summary generation\n",
        "\n",
        "# Pre-processing\n",
        "docu_text = read_docu('report.pdf')\n",
        "token_count_estm = round(1.48*(docu_text.count(' ') + docu_text.count('\\n') + 10))\n",
        "\n",
        "if token_count_estm >= 32000:\n",
        "    model_name = 'gemini-1.5-flash'\n",
        "\n",
        "\n",
        "# Model Setup\n",
        "model = genai.GenerativeModel(  model_name=f'models/{model_name}',\n",
        "                                generation_config=model_config,\n",
        "                                system_instruction=model_sys_prompt )\n",
        "\n",
        "\n",
        "# Execution\n",
        "summary = summarize(docu_text, model)\n",
        "\n",
        "display(Markdown(summary))"
      ],
      "metadata": {
        "id": "7FgHTYV3snhO"
      },
      "execution_count": null,
      "outputs": []
    },
    {
      "cell_type": "code",
      "source": [
        "# Further Prompting\n",
        "\n",
        "chat_sys_prompt = (\n",
        "    'In a previous conversation, you were given a big financial document and were asked to produce a summary.'\n",
        "    ' You came up with this:\\n'\n",
        "    f'{summary}'\n",
        "    '\\nYou will now be asked follow up questions about this summary.'\n",
        "    '\\nDo not use more than 1 emoji per message.'\n",
        ")\n",
        "\n",
        "chat_model = genai.GenerativeModel( model_name='models/gemini-1.5-pro',\n",
        "                                    generation_config=model_config,\n",
        "                                    system_instruction=chat_sys_prompt  )\n",
        "\n",
        "chat = chat_model.start_chat()\n",
        "\n",
        "\n",
        "display(Markdown(\"Type `QUIT` to end the conversation\\n\"))\n",
        "display(Markdown(\"## Cross-Questioning Regarding The Generated Summary\"))\n",
        "\n",
        "print()\n",
        "msg = input('Message: ')\n",
        "\n",
        "while msg.upper() != 'QUIT':\n",
        "\n",
        "    print(\"\\nAI Response:\")\n",
        "\n",
        "    try:\n",
        "        response = chat.send_message(msg)\n",
        "    except:\n",
        "        print('The Gemini API free quota is 2 API calls/min; kindly wait a bit before sending messages.')\n",
        "        print('You may try resending your previous message.')\n",
        "\n",
        "    display(Markdown(response.text))\n",
        "    msg = input('\\nMessage: ')\n",
        "\n",
        "print(\"Conversation terminated. Re-run cell to initiate new conversation.\")"
      ],
      "metadata": {
        "id": "fNqrQOJ7somk"
      },
      "execution_count": null,
      "outputs": []
    }
  ]
}